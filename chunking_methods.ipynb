{
 "cells": [
  {
   "cell_type": "code",
   "execution_count": 2,
   "metadata": {},
   "outputs": [],
   "source": [
    "import re\n",
    "import PyPDF2\n",
    "\n",
    "from IPython.display import HTML\n",
    "from textwrap import fill\n",
    "from bs4 import BeautifulSoup"
   ]
  },
  {
   "cell_type": "markdown",
   "metadata": {},
   "source": [
    "## Fixed-size Chunking\n",
    "\n",
    "- Fixed-size chunking divides text into segments of a set size, no matter the structure of the content. \n",
    "- This can be enhanced by employing overlapping chunks, which enable neighboring chunks to have some content in common.\n",
    "- This approach is the cheapest among other approaches."
   ]
  },
  {
   "cell_type": "code",
   "execution_count": null,
   "metadata": {},
   "outputs": [
    {
     "name": "stdout",
     "output_type": "stream",
     "text": [
      "K-Means Clustering K-Means Clustering is an unsupervised learning method. If data set samples have\n",
      "labels, we prefer to use supervised method, but in real world mostly we don’t have labels and that’s\n",
      "why we prefer clustering methods which are known as unsupervised methods. The goal of this algorithm\n",
      "is to find groups in the data, with the number of groups represented by the variable K. The\n",
      "algorithm works iteratively to assign each data point to one of K groups based on the features that\n",
      "are provided. Data points are clustered based on feature similarity. The results of the K-means\n",
      "clustering algorithm are: The centroids of the K clusters, which can be used to label new data\n",
      "Labels for the training data (each data point is assigned to a single cluster) Rather than defining\n",
      "groups before looking at the data, clustering allows you to find and analyze the groups that have\n",
      "been formed organically. The “Choosing K” section below describes how the number of groups can be\n",
      "determined. Each centroid of a cluster is a\n"
     ]
    },
    {
     "data": {
      "text/html": [
       "<div style=\"width: 800px\"><div><span style=\"background-color: #FFB6C1\">K-Means Clustering\n",
       "K-Means Clustering is an unsupervised learning method. If data set samples have l</span><span style=\"background-color: #90EE90\">abels, we prefer to use supervised method, but in real world mostly we don’t have labels and that’s </span><span style=\"background-color: #87CEEB\">why we prefer clustering methods which are known as unsupervised methods. The goal of this algorithm</span><span style=\"background-color: #FFFF00\"> is to find groups in the data, with the number of groups represented by the variable K. The algorit</span><span style=\"background-color: #FFB6C1\">hm works iteratively to assign each data point to one of K groups based on the features that are pro</span><span style=\"background-color: #90EE90\">vided. Data points are clustered based on feature similarity. The results of the K-means clustering </span><span style=\"background-color: #87CEEB\">algorithm are:\n",
       "The centroids of the K clusters, which can be used to label new data\n",
       "Labels for the t</span><span style=\"background-color: #FFFF00\">raining data (each data point is assigned to a single cluster)\n",
       "Rather than defining groups before lo</span><span style=\"background-color: #FFB6C1\">oking at the data, clustering allows you to find and analyze the groups that have been formed organi</span><span style=\"background-color: #90EE90\">cally. The “Choosing K” section below describes how the number of groups can be determined.\n",
       "Each cen</span><span style=\"background-color: #87CEEB\">troid of a cluster is a </span></div></div>"
      ],
      "text/plain": [
       "<IPython.core.display.HTML object>"
      ]
     },
     "metadata": {},
     "output_type": "display_data"
    },
    {
     "name": "stdout",
     "output_type": "stream",
     "text": [
      "collection of feature values which define the resulting groups. Examining the centroid feature\n",
      "weights can be used to qualitatively interpret what kind of group each cluster represents[1].\n",
      "Project Details As, I have mentioned previously I used OpenCV library for image processing with\n",
      "Python3 for this project. The other libraries that I have used NumPy for numerical arrays,\n",
      "Matplotlib for visualizing my result, Sklearn for machine learning. First we will read image data\n",
      "using cv2.imread() function from OpenCV as cv2. Once the image is read using cv2, our image color\n",
      "channel comes to us as Blue-Green-Red. But we want Red-Green-Blue as our image color channel, so we\n",
      "convert it to the required channel using cv2.cvtcolor() function. Now we have 3-D parameters in our\n",
      "image data: row number X column number X colour channel number. But, we won’t need row and column\n",
      "information separately. Besides, it is hard to deal with 3-D Matrix that’s why we reshape() image\n",
      "and make it 2-D Matrix data. This was the preparation pa\n"
     ]
    },
    {
     "data": {
      "text/html": [
       "<div style=\"width: 800px\"><div><span style=\"background-color: #FFB6C1\">collection of feature values which define the resulting groups. Examining the centroid feature weigh</span><span style=\"background-color: #90EE90\">ts can be used to qualitatively interpret what kind of group each cluster represents[1].\n",
       "Project Det</span><span style=\"background-color: #87CEEB\">ails\n",
       "As, I have mentioned previously I used OpenCV library for image processing with Python3 for thi</span><span style=\"background-color: #FFFF00\">s project. The other libraries that I have used NumPy for numerical arrays, Matplotlib for visualizi</span><span style=\"background-color: #FFB6C1\">ng my result, Sklearn for machine learning.\n",
       "First we will read image data using cv2.imread() functio</span><span style=\"background-color: #90EE90\">n from OpenCV as cv2. Once the image is read using cv2, our image color channel comes to us as Blue-</span><span style=\"background-color: #87CEEB\">Green-Red. But we want Red-Green-Blue as our image color channel, so we convert it to the required c</span><span style=\"background-color: #FFFF00\">hannel using cv2.cvtcolor() function. Now we have 3-D parameters in our image data: row number X col</span><span style=\"background-color: #FFB6C1\">umn number X colour channel number. But, we won’t need row and column information separately. Beside</span><span style=\"background-color: #90EE90\">s, it is hard to deal with 3-D Matrix that’s why we reshape() image and make it 2-D Matrix data. Thi</span><span style=\"background-color: #87CEEB\">s was the preparation pa</span></div></div>"
      ],
      "text/plain": [
       "<IPython.core.display.HTML object>"
      ]
     },
     "metadata": {},
     "output_type": "display_data"
    },
    {
     "name": "stdout",
     "output_type": "stream",
     "text": [
      "rt for images and now we are ready to go on with clustering. Since we will import K-Means from top\n",
      "of our code, we can easily use it by only giving n_clusters, which represents cluster number\n",
      "originally. After that we will use fit() function to apply K-Means Clustering algorithm on our pre-\n",
      "processed image data and result will come back to clt objects. We use find_histogram() function to\n",
      "limit the number of histograms to the desired number of clusters. You can find the full details\n",
      "about find_histogram() and plot_colors2() function in this article below. As we don’t want to find\n",
      "histogram for all pixel, and all the color palette, so we would like to limit it to the desired\n",
      "number of clusters. The plot_colors2() function will prepare a bar, and put colors on this bar as\n",
      "shown in the image below: Figure 1. dominant colour bar A histogram is an accurate graphical\n",
      "representation of the distribution of numerical data. It is an estimate of the probability\n",
      "distribution of a continuous variable. When we come to find_h\n"
     ]
    },
    {
     "data": {
      "text/html": [
       "<div style=\"width: 800px\"><div><span style=\"background-color: #FFB6C1\">rt for images and now we are ready to go on with clustering. Since we will import K-Means from top o</span><span style=\"background-color: #90EE90\">f our code, we can easily use it by only giving n_clusters, which represents cluster number original</span><span style=\"background-color: #87CEEB\">ly. After that we will use fit() function to apply K-Means Clustering algorithm on our pre-processed</span><span style=\"background-color: #FFFF00\"> image data and result will come back to clt objects. We use find_histogram() function to limit the </span><span style=\"background-color: #FFB6C1\">number of histograms to the desired number of clusters. You can find the full details about find_his</span><span style=\"background-color: #90EE90\">togram() and plot_colors2() function in this article below. As we don’t want to find histogram for a</span><span style=\"background-color: #87CEEB\">ll pixel, and all the color palette, so we would like to limit it to the desired number of clusters.</span><span style=\"background-color: #FFFF00\"> The plot_colors2() function will prepare a bar, and put colors on this bar as shown in the image be</span><span style=\"background-color: #FFB6C1\">low:\n",
       "Figure 1. dominant colour bar\n",
       "A histogram is an accurate graphical representation of the distri</span><span style=\"background-color: #90EE90\">bution of numerical data. It is an estimate of the probability distribution of a continuous variable</span><span style=\"background-color: #87CEEB\">. When we come to find_h</span></div></div>"
      ],
      "text/plain": [
       "<IPython.core.display.HTML object>"
      ]
     },
     "metadata": {},
     "output_type": "display_data"
    },
    {
     "name": "stdout",
     "output_type": "stream",
     "text": [
      "istogram() function it takes one parameter which is trained clt object and returns histogram\n",
      "information. np. arange(0, len(np.unique(clt.labels_))+1) function will return evenly spaced values\n",
      "within a given interval. For our example, because we have 3 clusters numLabels’ value will be [0 1 2\n",
      "3]. After that, we will calculate the histogram according to numberLabels and cluster’s label\n",
      "values. clt.labels_ is an array which includes cluster labels for each pixel. After calculating the\n",
      "histogram value, we will calculate the ratio of the histogram values we obtained because it is more\n",
      "difficult to work with numbers than to work with ratios. After calculating the histogram ratios, we\n",
      "will jump in to plot_colors2() function. This function will plot a bar which shows colours according\n",
      "to clusters and histogram. First we prepare a 3-D matrix, all values are zero. Then we plot the\n",
      "relative percentage of each cluster. cv2.rectangle() function draws a simple, thick, or filled up-\n",
      "right rectangle. We are filling a rectang\n"
     ]
    },
    {
     "data": {
      "text/html": [
       "<div style=\"width: 800px\"><div><span style=\"background-color: #FFB6C1\">istogram() function it takes one parameter which is trained clt object and returns histogram informa</span><span style=\"background-color: #90EE90\">tion. np. arange(0, len(np.unique(clt.labels_))+1) function will return evenly spaced values within </span><span style=\"background-color: #87CEEB\">a given interval. For our example, because we have 3 clusters numLabels’ value will be [0 1 2 3]. Af</span><span style=\"background-color: #FFFF00\">ter that, we will calculate the histogram according to numberLabels and cluster’s label values. clt.</span><span style=\"background-color: #FFB6C1\">labels_ is an array which includes cluster labels for each pixel. After calculating the histogram va</span><span style=\"background-color: #90EE90\">lue, we will calculate the ratio of the histogram values we obtained because it is more difficult to</span><span style=\"background-color: #87CEEB\"> work with numbers than to work with ratios.\n",
       "After calculating the histogram ratios, we will jump in</span><span style=\"background-color: #FFFF00\"> to plot_colors2() function. This function will plot a bar which shows colours according to clusters</span><span style=\"background-color: #FFB6C1\"> and histogram. First we prepare a 3-D matrix, all values are zero. Then we plot the relative percen</span><span style=\"background-color: #90EE90\">tage of each cluster. cv2.rectangle() function draws a simple, thick, or filled up-right rectangle. </span><span style=\"background-color: #87CEEB\">We are filling a rectang</span></div></div>"
      ],
      "text/plain": [
       "<IPython.core.display.HTML object>"
      ]
     },
     "metadata": {},
     "output_type": "display_data"
    },
    {
     "name": "stdout",
     "output_type": "stream",
     "text": [
      "le with colors in terms of histogram ratios. Below you can find all the code, I have mentioned above\n",
      "or Github version can be found here.\n"
     ]
    },
    {
     "data": {
      "text/html": [
       "<div style=\"width: 800px\"><div><span style=\"background-color: #FFB6C1\">le with colors in terms of histogram ratios. Below you can find all the code, I have mentioned above</span><span style=\"background-color: #90EE90\"> or Github version can be found here.\n",
       "</span></div></div>"
      ],
      "text/plain": [
       "<IPython.core.display.HTML object>"
      ]
     },
     "metadata": {},
     "output_type": "display_data"
    },
    {
     "name": "stdout",
     "output_type": "stream",
     "text": [
      "In the end, we prepare an image processing application which aims to find the dominant color for an\n",
      "image. We have used K-Means Clustering and calculate histogram to find the following result:\n"
     ]
    },
    {
     "data": {
      "text/html": [
       "<div style=\"width: 800px\"><div><span style=\"background-color: #FFB6C1\">In the end, we prepare an image processing application which aims to find the dominant color for an </span><span style=\"background-color: #90EE90\">image. We have used K-Means Clustering and calculate histogram to find the following result:</span></div></div>"
      ],
      "text/plain": [
       "<IPython.core.display.HTML object>"
      ]
     },
     "metadata": {},
     "output_type": "display_data"
    }
   ],
   "source": [
    "def read_pdf_in_chunks(file_path, chunk_size=1024):\n",
    "    with open(file_path, 'rb') as file:\n",
    "        reader = PyPDF2.PdfReader(file)\n",
    "        num_pages = len(reader.pages)\n",
    "        for page_num in range(num_pages):\n",
    "            page = reader.pages[page_num]\n",
    "            text = page.extract_text()\n",
    "            for i in range(0, len(text), chunk_size):\n",
    "                yield text[i:i + chunk_size]\n",
    "\n",
    "# Example usage:\n",
    "file_path = './sample_k_means.pdf'\n",
    "for chunk in read_pdf_in_chunks(file_path, chunk_size=1024):\n",
    "    # Format and print chunk with word wrapping\n",
    "    \n",
    "    print(fill(chunk, width=100))\n",
    "    def highlight_chunks(text, chunk_size=100):\n",
    "        # Define colors for alternating highlights\n",
    "        colors = ['#FFB6C1', '#90EE90', '#87CEEB', '#FFFF00']  # pink, green, blue, yellow\n",
    "        \n",
    "        soup = BeautifulSoup('<div></div>', 'html.parser')\n",
    "        div = soup.div\n",
    "        \n",
    "        # Split text into chunks and highlight each with different colors\n",
    "        for i in range(0, len(text), chunk_size):\n",
    "            chunk = text[i:i + chunk_size]\n",
    "            color = colors[(i//chunk_size) % len(colors)]\n",
    "            span = soup.new_tag('span', style=f'background-color: {color}')\n",
    "            span.string = chunk\n",
    "            div.append(span)\n",
    "        \n",
    "        return str(soup)\n",
    "\n",
    "    # Apply highlighting to chunks\n",
    "    highlighted_text = highlight_chunks(chunk)\n",
    "    display(HTML(f'<div style=\"width: {800}px\">{highlighted_text}</div>'))"
   ]
  },
  {
   "cell_type": "markdown",
   "metadata": {},
   "source": [
    "## Recursive Chunking\n",
    "- More advanced approach than the fixed-size chunking. \n",
    "- Recursive chunking first divides text with a main separator (such as paragraphs) and subsequently utilizing secondary separators (like sentences) if the resulting chunks remain too large. "
   ]
  },
  {
   "cell_type": "code",
   "execution_count": 3,
   "metadata": {},
   "outputs": [
    {
     "data": {
      "text/html": [
       "<div style=\"width: 800px\"><div><span style=\"background-color: #FFB6C1\">K-Means Clustering\n",
       "K-Means Clustering is an unsupervised learning method. </span><span style=\"background-color: #90EE90\">If data set samples have labels, we prefer to use supervised method, but in real world mostly we don’t have labels and that’s why we prefer clustering methods which are known as unsupervised methods. </span><span style=\"background-color: #87CEEB\">The goal of this algorithm is to find groups in the data, with the number of groups represented by the variable K. </span><span style=\"background-color: #FFFF00\">The algorithm works iteratively to assign each data point to one of K groups based on the features that are provided. </span><span style=\"background-color: #FFB6C1\">Data points are clustered based on feature similarity. </span><span style=\"background-color: #90EE90\">The results of the K-means clustering algorithm are:\n",
       "The centroids of the K clusters, which can be used to label new data\n",
       "Labels for the training data (each data point is assigned to a single cluster)\n",
       "Rather than defining groups before looking at the data, clustering allows you to find and analyze the groups that have been formed organically. The “Choosing K” section below describes how the number of groups can be determined.\n",
       "Each centroid of a cluster is a </span></div></div>"
      ],
      "text/plain": [
       "<IPython.core.display.HTML object>"
      ]
     },
     "metadata": {},
     "output_type": "display_data"
    },
    {
     "data": {
      "text/html": [
       "<div style=\"width: 800px\"><div><span style=\"background-color: #FFB6C1\">collection of feature values which define the resulting groups. </span><span style=\"background-color: #90EE90\">Examining the centroid feature weights can be used to qualitatively interpret what kind of group each cluster represents[1].\n",
       "</span><span style=\"background-color: #87CEEB\">Project Details\n",
       "As, I have mentioned previously I used OpenCV library for image processing with Python3 for this project. </span><span style=\"background-color: #FFFF00\">The other libraries that I have used NumPy for numerical arrays, Matplotlib for visualizing my result, Sklearn for machine learning.\n",
       "</span><span style=\"background-color: #FFB6C1\">First we will read image data using cv2.imread() function from OpenCV as cv2. </span><span style=\"background-color: #90EE90\">Once the image is read using cv2, our image color channel comes to us as Blue-Green-Red. </span><span style=\"background-color: #87CEEB\">But we want Red-Green-Blue as our image color channel, so we convert it to the required channel using cv2.cvtcolor() function. </span><span style=\"background-color: #FFFF00\">Now we have 3-D parameters in our image data: row number X column number X colour channel number. </span><span style=\"background-color: #FFB6C1\">But, we won’t need row and column information separately. </span><span style=\"background-color: #90EE90\">Besides, it is hard to deal with 3-D Matrix that’s why we reshape() image and make it 2-D Matrix data. This was the preparation pa</span></div></div>"
      ],
      "text/plain": [
       "<IPython.core.display.HTML object>"
      ]
     },
     "metadata": {},
     "output_type": "display_data"
    },
    {
     "data": {
      "text/html": [
       "<div style=\"width: 800px\"><div><span style=\"background-color: #FFB6C1\">rt for images and now we are ready to go on with clustering. </span><span style=\"background-color: #90EE90\">Since we will import K-Means from top of our code, we can easily use it by only giving n_clusters, which represents cluster number originally. </span><span style=\"background-color: #87CEEB\">After that we will use fit() function to apply K-Means Clustering algorithm on our pre-processed image data and result will come back to clt objects. We use find_histogram() function to limit the number of histograms to the desired number of clusters. </span><span style=\"background-color: #FFFF00\">You can find the full details about find_histogram() and plot_colors2() function in this article below. </span><span style=\"background-color: #FFB6C1\">As we don’t want to find histogram for all pixel, and all the color palette, so we would like to limit it to the desired number of clusters. </span><span style=\"background-color: #90EE90\">The plot_colors2() function will prepare a bar, and put colors on this bar as shown in the image below:\n",
       "Figure 1. </span><span style=\"background-color: #87CEEB\">dominant colour bar\n",
       "A histogram is an accurate graphical representation of the distribution of numerical data. It is an estimate of the probability distribution of a continuous variable. When we come to find_h</span></div></div>"
      ],
      "text/plain": [
       "<IPython.core.display.HTML object>"
      ]
     },
     "metadata": {},
     "output_type": "display_data"
    },
    {
     "data": {
      "text/html": [
       "<div style=\"width: 800px\"><div><span style=\"background-color: #FFB6C1\">istogram() function it takes one parameter which is trained clt object and returns histogram information. </span><span style=\"background-color: #90EE90\">np. </span><span style=\"background-color: #87CEEB\">arange(0, len(np.unique(clt.labels_))+1) function will return evenly spaced values within a given interval. </span><span style=\"background-color: #FFFF00\">For our example, because we have 3 clusters numLabels’ value will be [0 1 2 3]. </span><span style=\"background-color: #FFB6C1\">After that, we will calculate the histogram according to numberLabels and cluster’s label values. clt.labels_ is an array which includes cluster labels for each pixel. </span><span style=\"background-color: #90EE90\">After calculating the histogram value, we will calculate the ratio of the histogram values we obtained because it is more difficult to work with numbers than to work with ratios.\n",
       "After calculating the histogram ratios, we will jump in to plot_colors2() function. </span><span style=\"background-color: #87CEEB\">This function will plot a bar which shows colours according to clusters and histogram. First we prepare a 3-D matrix, all values are zero. </span><span style=\"background-color: #FFFF00\">Then we plot the relative percentage of each cluster. </span><span style=\"background-color: #FFB6C1\">cv2.rectangle() function draws a simple, thick, or filled up-right rectangle. We are filling a rectang</span></div></div>"
      ],
      "text/plain": [
       "<IPython.core.display.HTML object>"
      ]
     },
     "metadata": {},
     "output_type": "display_data"
    },
    {
     "data": {
      "text/html": [
       "<div style=\"width: 800px\"><div><span style=\"background-color: #FFB6C1\">le with colors in terms of histogram ratios. </span><span style=\"background-color: #90EE90\">Below you can find all the code, I have mentioned above or Github version can be found here.\n",
       "</span></div></div>"
      ],
      "text/plain": [
       "<IPython.core.display.HTML object>"
      ]
     },
     "metadata": {},
     "output_type": "display_data"
    },
    {
     "data": {
      "text/html": [
       "<div style=\"width: 800px\"><div><span style=\"background-color: #FFB6C1\">In the end, we prepare an image processing application which aims to find the dominant color for an image. We have used K-Means Clustering and calculate histogram to find the following result:</span></div></div>"
      ],
      "text/plain": [
       "<IPython.core.display.HTML object>"
      ]
     },
     "metadata": {},
     "output_type": "display_data"
    }
   ],
   "source": [
    "def recursive_highlight_chunks(text, min_chunk_size=50, max_depth=10):\n",
    "    colors = ['#FFB6C1', '#90EE90', '#87CEEB', '#FFFF00']\n",
    "    \n",
    "    def split_at_sentence(text, start_idx, end_idx):\n",
    "        search_text = text[start_idx:end_idx]\n",
    "        sentences = re.split(r'([.!?]+\\s)', search_text)\n",
    "        \n",
    "        if len(sentences) <= 1:\n",
    "            return end_idx\n",
    "        \n",
    "        total_length = end_idx - start_idx\n",
    "        target_length = total_length // 2\n",
    "        \n",
    "        current_length = 0\n",
    "        for i in range(0, len(sentences)-1, 2):\n",
    "            sentence = sentences[i] + (sentences[i+1] if i+1 < len(sentences) else '')\n",
    "            if current_length + len(sentence) >= target_length:\n",
    "                return start_idx + current_length\n",
    "            current_length += len(sentence)\n",
    "        \n",
    "        return start_idx + current_length\n",
    "\n",
    "    def chunk_recursively(text, start, end, depth=0):\n",
    "        if depth >= max_depth or end - start <= min_chunk_size:\n",
    "            return [(start, end)]\n",
    "        \n",
    "        mid = split_at_sentence(text, start, end)\n",
    "        if mid == end or mid == start:\n",
    "            return [(start, end)]\n",
    "        \n",
    "        return chunk_recursively(text, start, mid, depth + 1) + \\\n",
    "               chunk_recursively(text, mid, end, depth + 1)\n",
    "    \n",
    "    chunks = chunk_recursively(text, 0, len(text))\n",
    "    \n",
    "    soup = BeautifulSoup('<div></div>', 'html.parser')\n",
    "    div = soup.div\n",
    "    \n",
    "    for i, (start, end) in enumerate(chunks):\n",
    "        chunk = text[start:end]\n",
    "        color = colors[i % len(colors)]\n",
    "        span = soup.new_tag('span', style=f'background-color: {color}')\n",
    "        span.string = chunk\n",
    "        div.append(span)\n",
    "    \n",
    "    return str(soup)\n",
    "\n",
    "# Display the recursively highlighted text for all chunks\n",
    "for chunk in read_pdf_in_chunks(file_path, chunk_size=1024):\n",
    "    recursive_highlighted = recursive_highlight_chunks(chunk)\n",
    "    display(HTML(f'<div style=\"width: {800}px\">{recursive_highlighted}</div>'))\n"
   ]
  },
  {
   "cell_type": "markdown",
   "metadata": {},
   "source": [
    "## Document-based Chunking\n",
    "\n",
    "- This approach creates segments according to the inherent divisions in a document, such as headings, tags or paragraphs. \n",
    "- It works especially well for structured data formats like HTML, Markdown, or code files but is not as effective when the data does not contain distinct structural components.\n",
    "- Below example has been chunked by following elements from an HTML file: `'p', 'h3', 'meta', 'span'`"
   ]
  },
  {
   "cell_type": "code",
   "execution_count": 17,
   "metadata": {},
   "outputs": [
    {
     "data": {
      "text/html": [
       "<div style=\"width: 800px\"><div><span style=\"background-color: #FFB6C1\"> Author: Bilge Ince</span><span style=\"background-color: #90EE90\">Machine Learning Engineer</span><span style=\"background-color: #87CEEB\">As a Machine Learning Engineer at EDB, Bilge Ince is deeply involved in advancing EDB's AI products. Her professional experience spans significant contributions to the development of machine learning algorithms and natural language processing techniques, enhancing product performance and reliability. Bilge is currently pursuing a PhD, and her research focuses on malware analysis using GANs. Bilge also actively participates in open-source communities and advocates for the community of women developers in Turkey, aiming to foster diversity and inclusion within the tech industry.</span></div></div>"
      ],
      "text/plain": [
       "<IPython.core.display.HTML object>"
      ]
     },
     "metadata": {},
     "output_type": "display_data"
    }
   ],
   "source": [
    "def document_based_chunking(file_path):\n",
    "    with open(file_path, 'r', encoding='utf-8') as file:\n",
    "        soup = BeautifulSoup(file, 'html.parser')\n",
    "    \n",
    "    chunks = []\n",
    "    current_chunk = []\n",
    "    \n",
    "    for element in soup.body.descendants:\n",
    "        if element.name in ['p', 'h3', 'meta', 'span']:\n",
    "            if current_chunk:\n",
    "                chunks.append(' '.join(current_chunk))\n",
    "                current_chunk = []\n",
    "            current_chunk.append(element.get_text())\n",
    "    \n",
    "    if current_chunk:\n",
    "        chunks.append(' '.join(current_chunk))\n",
    "    \n",
    "    return chunks\n",
    "\n",
    "def highlight_chunks(chunks):\n",
    "    colors = ['#FFB6C1', '#90EE90', '#87CEEB', '#FFFF00']\n",
    "    soup = BeautifulSoup('<div></div>', 'html.parser')\n",
    "    div = soup.div\n",
    "    \n",
    "    for i, chunk in enumerate(chunks):\n",
    "        color = colors[i % len(colors)]\n",
    "        span = soup.new_tag('span', style=f'background-color: {color}')\n",
    "        span.string = chunk\n",
    "        div.append(span)\n",
    "    \n",
    "    return str(soup)\n",
    "\n",
    "# Example usage:\n",
    "file_path = 'Bilge Ince.html'\n",
    "chunks = document_based_chunking(file_path)\n",
    "highlighted_chunks = highlight_chunks(chunks)\n",
    "display(HTML(f'<div style=\"width: {800}px\">{highlighted_chunks}</div>'))"
   ]
  },
  {
   "cell_type": "markdown",
   "metadata": {},
   "source": [
    "## Semantic Chunking\n",
    "\n",
    "- Semantic chunking segments text into meaningful components that are subsequently transformed into vectors. \n",
    "- These components are then grouped into chunks depending on the cosine distance of their embeddings, with a new chunk created each time a notable shift in context is identified. \n",
    "- This approach leverages from semantic search to decide the size of the chunks. It's more intelligent approach from above approaches but less cost effective."
   ]
  },
  {
   "cell_type": "code",
   "execution_count": 3,
   "metadata": {},
   "outputs": [
    {
     "data": {
      "text/html": [
       "<div style=\"width: 800px\"><div><span style=\"background-color: #FFB6C1\">K-Means Clustering\n",
       "K-Means Clustering is an unsupervised learning method.</span><span style=\"background-color: #90EE90\">If data set samples have labels, we prefer to use supervised method, but in real world mostly we don’t have labels and that’s why we prefer clustering methods which are known as unsupervised methods.</span><span style=\"background-color: #87CEEB\">The goal of this algorithm is to find groups in the data, with the number of groups represented by the variable K.</span><span style=\"background-color: #FFFF00\">Data points are clustered based on feature similarity.</span><span style=\"background-color: #FFB6C1\">Examining the centroid feature weights can be used to qualitatively interpret what kind of group each cluster represents[1].\n",
       "Project Details\n",
       "As, I have mentioned previously I used OpenCV library for image processing with Python3 for this project.</span><span style=\"background-color: #90EE90\">The other libraries that I have used NumPy for numerical arrays, Matplotlib for visualizing my result, Sklearn for machine learning.\n",
       "First we will read image data using cv2.imread() function from OpenCV as cv2.</span><span style=\"background-color: #87CEEB\">Once the image is read using cv2, our image color channel comes to us as Blue-Green-Red.</span><span style=\"background-color: #FFFF00\">Now we have 3-D parameters in our image data: row number X column number X colour channel number.</span><span style=\"background-color: #FFB6C1\">But, we won’t need row and column information separately.</span><span style=\"background-color: #90EE90\">Besides, it is hard to deal with 3-D Matrix that’s why we reshape() image and make it 2-D Matrix data.</span><span style=\"background-color: #87CEEB\">This was the preparation part for images and now we are ready to go on with clustering.</span><span style=\"background-color: #FFFF00\">Since we will import K-Means from top of our code, we can easily use it by only giving n_clusters, which represents cluster number originally.</span><span style=\"background-color: #FFB6C1\">After that we will use fit() function to apply K-Means Clustering algorithm on our pre-processed image data and result will come back to clt objects.</span><span style=\"background-color: #90EE90\">We use find_histogram() function to limit the number of histograms to the desired number of clusters.</span><span style=\"background-color: #87CEEB\">You can find the full details about find_histogram() and plot_colors2() function in this article below.</span><span style=\"background-color: #FFFF00\">It is an estimate of the probability distribution of a continuous variable.</span><span style=\"background-color: #FFB6C1\">When we come to find_histogram() function it takes one parameter which is trained clt object and returns histogram information. np. arange(0, len(np.unique(clt.labels_))+1) function will return evenly spaced values within a given interval.</span><span style=\"background-color: #90EE90\">For our example, because we have 3 clusters numLabels’ value will be [0 1 2 3].</span><span style=\"background-color: #87CEEB\">After that, we will calculate the histogram according to numberLabels and cluster’s label values. clt.labels_ is an array which includes cluster labels for each pixel.</span><span style=\"background-color: #FFFF00\">First we prepare a 3-D matrix, all values are zero.</span><span style=\"background-color: #FFB6C1\">Then we plot the relative percentage of each cluster. cv2.rectangle() function draws a simple, thick, or filled up-right rectangle.</span><span style=\"background-color: #90EE90\">We are filling a rectangle with colors in terms of histogram ratios.</span><span style=\"background-color: #87CEEB\">Below you can find all the code, I have mentioned above or Github version can be found here.\n",
       "</span><span style=\"background-color: #FFFF00\">In the end, we prepare an image processing application which aims to find the dominant color for an image.</span><span style=\"background-color: #FFB6C1\">We have used K-Means Clustering and calculate histogram to find the following result:</span></div></div>"
      ],
      "text/plain": [
       "<IPython.core.display.HTML object>"
      ]
     },
     "metadata": {},
     "output_type": "display_data"
    }
   ],
   "source": [
    "from sentence_transformers import SentenceTransformer, util\n",
    "\n",
    "def semantic_chunking(sentences, threshold=0.7):\n",
    "    # Load pre-trained model\n",
    "    model = SentenceTransformer('all-MiniLM-L6-v2')\n",
    "    \n",
    "    # Generate embeddings for each sentence\n",
    "    embeddings = model.encode(sentences)\n",
    "    \n",
    "    # Calculate cosine similarity matrix\n",
    "    cosine_sim_matrix = util.pytorch_cos_sim(embeddings, embeddings)\n",
    "\n",
    "    # Group tokens into chunks based on cosine similarity\n",
    "    groups = []\n",
    "    visited = set()\n",
    "    for i in range(len(sentences)):\n",
    "        if i not in visited:\n",
    "            group = [sentences[i]]\n",
    "            visited.add(i)\n",
    "            for j in range(i + 1, len(sentences)):\n",
    "                if cosine_sim_matrix[i][j] > threshold and j not in visited:\n",
    "                    group.append(sentences[j])\n",
    "                    visited.add(j)\n",
    "            groups.append(group)\n",
    "    \n",
    "    return groups\n",
    "\n",
    "def highlight_chunks(chunks):\n",
    "    colors = ['#FFB6C1', '#90EE90', '#87CEEB', '#FFFF00']\n",
    "    soup = BeautifulSoup('<div></div>', 'html.parser')\n",
    "    div = soup.div\n",
    "    \n",
    "    for i, chunk in enumerate(chunks):\n",
    "        color = colors[i % len(colors)]\n",
    "        span = soup.new_tag('span', style=f'background-color: {color}')\n",
    "        span.string = chunk[0]\n",
    "        div.append(span)\n",
    "    \n",
    "    return str(soup)\n",
    "\n",
    "def read_pdf_in_sentences(file_path):\n",
    "    sentences = []\n",
    "    with open(file_path, 'rb') as file:\n",
    "        reader = PyPDF2.PdfReader(file)\n",
    "        num_pages = len(reader.pages)\n",
    "        for page_num in range(num_pages):\n",
    "            page = reader.pages[page_num]  \n",
    "            text = page.extract_text()\n",
    "            sentences.extend(re.split(r'(?<=[^A-Z].[.?]) +(?=[A-Z])', text))\n",
    "    return sentences\n",
    "\n",
    "# Example usage:\n",
    "file_path = './sample_k_means.pdf'\n",
    "sentences = read_pdf_in_sentences(file_path)\n",
    "semantic_chunks = semantic_chunking(sentences)\n",
    "highlighted_semantic_chunks = highlight_chunks(semantic_chunks)\n",
    "display(HTML(f'<div style=\"width: {800}px\">{highlighted_semantic_chunks}</div>'))"
   ]
  },
  {
   "cell_type": "markdown",
   "metadata": {},
   "source": [
    "## LLM based Chunking\n",
    "\n",
    "- Using LLM to generate chunks by processing text and creating semantically isolated sentences or propositions.\n",
    "- Please note that this will be the most expensive way of chunking."
   ]
  },
  {
   "cell_type": "code",
   "execution_count": 20,
   "metadata": {},
   "outputs": [
    {
     "data": {
      "text/html": [
       "<div style=\"width: 800px\"><div><span style=\"background-color: #FFB6C1\">- K-Means Clustering is an unsupervised learning method.</span><span style=\"background-color: #90EE90\">- If data set samples have labels, we prefer to use a supervised method, but in the real world, mostly we don’t have labels, so we prefer clustering methods which are known as unsupervised methods.</span><span style=\"background-color: #87CEEB\">- The goal of the algorithm is to find groups in the data, with the number of groups represented by the variable K.</span><span style=\"background-color: #FFFF00\">- The algorithm works iteratively to assign each data point to one of K groups based on the features provided.</span><span style=\"background-color: #FFB6C1\">- Data points are clustered based on feature similarity.</span><span style=\"background-color: #90EE90\">- The results of the K-means clustering algorithm are:</span><span style=\"background-color: #87CEEB\">  - The centroids of the K clusters, which can be used to label new data.</span><span style=\"background-color: #FFFF00\">  - Labels for the training data (each data point is assigned to a single cluster).</span><span style=\"background-color: #FFB6C1\">- Rather than defining groups before looking at the data, clustering allows you to find and analyze the groups that have been formed organically.</span><span style=\"background-color: #90EE90\">- The “Choosing K” section describes how the number of groups can be determined.</span><span style=\"background-color: #87CEEB\">- Each centroid of a cluster is a collection of feature values which define the resulting groups.</span><span style=\"background-color: #FFFF00\">- Examining the centroid feature weights can be used to qualitatively interpret what kind of group each cluster represents.</span><span style=\"background-color: #FFB6C1\">- Project Details: I used the OpenCV library for image processing with Python3 for this project. The other libraries I used are NumPy for numerical arrays, Matplotlib for visualizing my result, and Sklearn for machine learning.</span><span style=\"background-color: #90EE90\">- First, we will read image data using cv2.imread() function from OpenCV as cv2.</span><span style=\"background-color: #87CEEB\">- Once the image is read using cv2, our image color channel comes to us as Blue-Green-Red.</span><span style=\"background-color: #FFFF00\">- We convert it to the required channel using cv2.cvtcolor() function to get Red-Green-Blue as our image color channel.</span><span style=\"background-color: #FFB6C1\">- Now we have 3-D parameters in our image data: row number X column number X colour channel number.</span><span style=\"background-color: #90EE90\">- We reshape the image to make it a 2-D Matrix data.</span><span style=\"background-color: #87CEEB\">- This was the preparation part for images, and now we are ready to go on with clustering.</span><span style=\"background-color: #FFFF00\">- We import K-Means from the top of our code and use it by only giving n_clusters, which represents the cluster number originally.</span><span style=\"background-color: #FFB6C1\">- After that, we use the fit() function to apply K-Means Clustering algorithm on our pre-processed image data, and the result will come back to clt objects.</span><span style=\"background-color: #90EE90\">- We use the find_histogram</span></div></div>"
      ],
      "text/plain": [
       "<IPython.core.display.HTML object>"
      ]
     },
     "metadata": {},
     "output_type": "display_data"
    }
   ],
   "source": [
    "\n",
    "import openai\n",
    "import backoff\n",
    "import os\n",
    "\n",
    "@backoff.on_exception(backoff.expo, openai.RateLimitError)\n",
    "def _api_call(messages, model, max_tokens):\n",
    "    client = openai.OpenAI(api_key=os.getenv(\"OPENAI_API_KEY\"))\n",
    "    \n",
    "    return client.chat.completions.create(\n",
    "        model=model, \n",
    "        messages=messages,\n",
    "        max_tokens=max_tokens,\n",
    "        n=1,\n",
    "        stop=None,\n",
    "        temperature=0.5,\n",
    "    )\n",
    "\n",
    "def llm_chunking(text, model=\"gpt-3.5-turbo\", max_tokens=500):\n",
    "     # Replace with your OpenAI API key\n",
    "    messages=[\n",
    "        {\"role\": \"system\", \"content\": \"You are a helpful assistant.\"},\n",
    "        {\n",
    "            \"role\": \"user\",\n",
    "            \"content\": f\"Chunk the following text into semantically isolated sentences or propositions in a list:\\n\\n{text}\\n\\nChunks:\",\n",
    "        }\n",
    "    ]\n",
    "    completion = _api_call(messages, model=model, max_tokens=max_tokens)\n",
    "    chunks = completion.choices[0].message.content.strip().split('\\n')\n",
    "    return chunks\n",
    "\n",
    "def highlight_chunks(chunks):\n",
    "    colors = ['#FFB6C1', '#90EE90', '#87CEEB', '#FFFF00']\n",
    "    soup = BeautifulSoup('<div></div>', 'html.parser')\n",
    "    div = soup.div\n",
    "    \n",
    "    for i, chunk in enumerate(chunks):\n",
    "        color = colors[i % len(colors)]\n",
    "        span = soup.new_tag('span', style=f'background-color: {color}')\n",
    "        span.string = chunk\n",
    "        div.append(span)\n",
    "    \n",
    "    return str(soup)\n",
    "\n",
    "# Example usage:\n",
    "file_path = './sample_k_means.pdf'\n",
    "text = read_pdf_in_sentences(file_path)\n",
    "llm_chunks = llm_chunking(text)\n",
    "highlighted_semantic_chunks = highlight_chunks(llm_chunks)\n",
    "display(HTML(f'<div style=\"width: {800}px\">{highlighted_semantic_chunks}</div>'))\n"
   ]
  },
  {
   "cell_type": "code",
   "execution_count": null,
   "metadata": {},
   "outputs": [],
   "source": []
  }
 ],
 "metadata": {
  "kernelspec": {
   "display_name": "Python 3",
   "language": "python",
   "name": "python3"
  },
  "language_info": {
   "codemirror_mode": {
    "name": "ipython",
    "version": 3
   },
   "file_extension": ".py",
   "mimetype": "text/x-python",
   "name": "python",
   "nbconvert_exporter": "python",
   "pygments_lexer": "ipython3",
   "version": "3.10.4"
  }
 },
 "nbformat": 4,
 "nbformat_minor": 2
}
