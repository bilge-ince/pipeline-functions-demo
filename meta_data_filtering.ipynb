{
 "cells": [
  {
   "cell_type": "markdown",
   "metadata": {},
   "source": [
    "# Metadata Filtering\n",
    "- This notebook aims to demonstrate metadata filtering with a simple example using `Goodreads dataset`"
   ]
  },
  {
   "cell_type": "code",
   "execution_count": null,
   "metadata": {},
   "outputs": [],
   "source": [
    "from db_connection import create_db_connection\n",
    "from tabulate import tabulate\n",
    "\n",
    "import pandas as pd"
   ]
  },
  {
   "cell_type": "code",
   "execution_count": 25,
   "metadata": {},
   "outputs": [],
   "source": [
    "conn = create_db_connection()"
   ]
  },
  {
   "cell_type": "code",
   "execution_count": null,
   "metadata": {},
   "outputs": [],
   "source": [
    "with conn.cursor() as cur:\n",
    "    cur.execute(\"CREATE EXTENSION IF NOT EXISTS aidb cascade;\")\n",
    "    cur.execute(\"CREATE EXTENSION IF NOT EXISTS pgfs;\")\n",
    "    cur.execute(\"DROP TABLE IF EXISTS books;\")\n",
    "    cur.execute(\"\"\"CREATE TABLE books (\n",
    "    bookID INT,\n",
    "    title TEXT,\n",
    "    authors TEXT,\n",
    "    average_rating FLOAT,\n",
    "    isbn TEXT,\n",
    "    isbn13 BIGINT,\n",
    "    language_code TEXT,\n",
    "    num_pages INT,\n",
    "    ratings_count INT,\n",
    "    text_reviews_count INT,\n",
    "    publication_date DATE,\n",
    "    publisher TEXT\n",
    ");\"\"\")\n",
    "conn.commit()"
   ]
  },
  {
   "cell_type": "code",
   "execution_count": 17,
   "metadata": {},
   "outputs": [],
   "source": [
    "# Read the train.csv file into a pandas dataframe, skipping bad lines\n",
    "df = pd.read_csv('sample_data/books.csv', on_bad_lines=\"skip\")"
   ]
  },
  {
   "cell_type": "code",
   "execution_count": 35,
   "metadata": {},
   "outputs": [
    {
     "data": {
      "text/plain": [
       "Index(['bookID', 'title', 'authors', 'average_rating', 'isbn', 'isbn13',\n",
       "       'language_code', 'num_pages', 'ratings_count', 'text_reviews_count',\n",
       "       'publication_date', 'publisher'],\n",
       "      dtype='object')"
      ]
     },
     "execution_count": 35,
     "metadata": {},
     "output_type": "execute_result"
    }
   ],
   "source": [
    "df.columns"
   ]
  },
  {
   "cell_type": "code",
   "execution_count": 19,
   "metadata": {},
   "outputs": [],
   "source": [
    "from io import StringIO\n",
    "# Create a string buffer\n",
    "output = StringIO()\n",
    "df_copy = df.copy()\n",
    "\n",
    "# Convert data types and handle NULL values\n",
    "df_copy['bookID'] = pd.to_numeric(df_copy['bookID'], errors='coerce')\n",
    "df_copy['average_rating'] = pd.to_numeric(df_copy['average_rating'], errors='coerce')\n",
    "df_copy['isbn13'] = pd.to_numeric(df_copy['isbn13'], errors='coerce')\n",
    "df_copy['num_pages'] = pd.to_numeric(df_copy['num_pages'], errors='coerce')\n",
    "df_copy['ratings_count'] = pd.to_numeric(df_copy['ratings_count'], errors='coerce')\n",
    "df_copy['text_reviews_count'] = pd.to_numeric(df_copy['text_reviews_count'], errors='coerce')\n",
    "\n",
    "#  Convert publication_date to datetime if it's not already\n",
    "if not pd.api.types.is_datetime64_any_dtype(df_copy['publication_date']):\n",
    "    df_copy['publication_date'] = pd.to_datetime(df_copy['publication_date'], errors='coerce')\n",
    "\n",
    "# Replace NaN with None for proper NULL handling in PostgreSQL\n",
    "df_copy = df_copy.replace({pd.NA: None, pd.NaT: None})\n",
    "df_copy = df_copy.where(pd.notnull(df_copy), None)"
   ]
  },
  {
   "cell_type": "markdown",
   "metadata": {},
   "source": [
    "### Insert data into Books table"
   ]
  },
  {
   "cell_type": "code",
   "execution_count": 22,
   "metadata": {},
   "outputs": [],
   "source": [
    "# Convert DataFrame to csv format in memory\n",
    "df_copy.to_csv(output, sep='\\t', header=False, index=False, na_rep='\\\\N')\n",
    "output.seek(0)\n",
    "with conn.cursor() as cur:\n",
    "# Use COPY to insert data\n",
    "    cur.copy_from(\n",
    "        file=output,\n",
    "        table='books',\n",
    "        null='\\\\N'\n",
    "    )\n",
    "\n",
    "# Commit and close\n",
    "conn.commit()\n",
    "conn.close()"
   ]
  },
  {
   "cell_type": "code",
   "execution_count": 23,
   "metadata": {},
   "outputs": [
    {
     "data": {
      "text/html": [
       "<div>\n",
       "<style scoped>\n",
       "    .dataframe tbody tr th:only-of-type {\n",
       "        vertical-align: middle;\n",
       "    }\n",
       "\n",
       "    .dataframe tbody tr th {\n",
       "        vertical-align: top;\n",
       "    }\n",
       "\n",
       "    .dataframe thead th {\n",
       "        text-align: right;\n",
       "    }\n",
       "</style>\n",
       "<table border=\"1\" class=\"dataframe\">\n",
       "  <thead>\n",
       "    <tr style=\"text-align: right;\">\n",
       "      <th></th>\n",
       "      <th>bookID</th>\n",
       "      <th>title</th>\n",
       "      <th>authors</th>\n",
       "      <th>average_rating</th>\n",
       "      <th>isbn</th>\n",
       "      <th>isbn13</th>\n",
       "      <th>language_code</th>\n",
       "      <th>num_pages</th>\n",
       "      <th>ratings_count</th>\n",
       "      <th>text_reviews_count</th>\n",
       "      <th>publication_date</th>\n",
       "      <th>publisher</th>\n",
       "    </tr>\n",
       "  </thead>\n",
       "  <tbody>\n",
       "    <tr>\n",
       "      <th>0</th>\n",
       "      <td>1</td>\n",
       "      <td>Harry Potter and the Half-Blood Prince (Harry ...</td>\n",
       "      <td>J.K. Rowling/Mary GrandPré</td>\n",
       "      <td>4.57</td>\n",
       "      <td>0439785960</td>\n",
       "      <td>9780439785969</td>\n",
       "      <td>eng</td>\n",
       "      <td>652</td>\n",
       "      <td>2095690</td>\n",
       "      <td>27591</td>\n",
       "      <td>2006-09-16 00:00:00</td>\n",
       "      <td>Scholastic Inc.</td>\n",
       "    </tr>\n",
       "    <tr>\n",
       "      <th>1</th>\n",
       "      <td>2</td>\n",
       "      <td>Harry Potter and the Order of the Phoenix (Har...</td>\n",
       "      <td>J.K. Rowling/Mary GrandPré</td>\n",
       "      <td>4.49</td>\n",
       "      <td>0439358078</td>\n",
       "      <td>9780439358071</td>\n",
       "      <td>eng</td>\n",
       "      <td>870</td>\n",
       "      <td>2153167</td>\n",
       "      <td>29221</td>\n",
       "      <td>2004-09-01 00:00:00</td>\n",
       "      <td>Scholastic Inc.</td>\n",
       "    </tr>\n",
       "    <tr>\n",
       "      <th>2</th>\n",
       "      <td>4</td>\n",
       "      <td>Harry Potter and the Chamber of Secrets (Harry...</td>\n",
       "      <td>J.K. Rowling</td>\n",
       "      <td>4.42</td>\n",
       "      <td>0439554896</td>\n",
       "      <td>9780439554893</td>\n",
       "      <td>eng</td>\n",
       "      <td>352</td>\n",
       "      <td>6333</td>\n",
       "      <td>244</td>\n",
       "      <td>2003-11-01 00:00:00</td>\n",
       "      <td>Scholastic</td>\n",
       "    </tr>\n",
       "    <tr>\n",
       "      <th>3</th>\n",
       "      <td>5</td>\n",
       "      <td>Harry Potter and the Prisoner of Azkaban (Harr...</td>\n",
       "      <td>J.K. Rowling/Mary GrandPré</td>\n",
       "      <td>4.56</td>\n",
       "      <td>043965548X</td>\n",
       "      <td>9780439655484</td>\n",
       "      <td>eng</td>\n",
       "      <td>435</td>\n",
       "      <td>2339585</td>\n",
       "      <td>36325</td>\n",
       "      <td>2004-05-01 00:00:00</td>\n",
       "      <td>Scholastic Inc.</td>\n",
       "    </tr>\n",
       "    <tr>\n",
       "      <th>4</th>\n",
       "      <td>8</td>\n",
       "      <td>Harry Potter Boxed Set  Books 1-5 (Harry Potte...</td>\n",
       "      <td>J.K. Rowling/Mary GrandPré</td>\n",
       "      <td>4.78</td>\n",
       "      <td>0439682584</td>\n",
       "      <td>9780439682589</td>\n",
       "      <td>eng</td>\n",
       "      <td>2690</td>\n",
       "      <td>41428</td>\n",
       "      <td>164</td>\n",
       "      <td>2004-09-13 00:00:00</td>\n",
       "      <td>Scholastic</td>\n",
       "    </tr>\n",
       "  </tbody>\n",
       "</table>\n",
       "</div>"
      ],
      "text/plain": [
       "   bookID                                              title  \\\n",
       "0       1  Harry Potter and the Half-Blood Prince (Harry ...   \n",
       "1       2  Harry Potter and the Order of the Phoenix (Har...   \n",
       "2       4  Harry Potter and the Chamber of Secrets (Harry...   \n",
       "3       5  Harry Potter and the Prisoner of Azkaban (Harr...   \n",
       "4       8  Harry Potter Boxed Set  Books 1-5 (Harry Potte...   \n",
       "\n",
       "                      authors  average_rating        isbn         isbn13  \\\n",
       "0  J.K. Rowling/Mary GrandPré            4.57  0439785960  9780439785969   \n",
       "1  J.K. Rowling/Mary GrandPré            4.49  0439358078  9780439358071   \n",
       "2                J.K. Rowling            4.42  0439554896  9780439554893   \n",
       "3  J.K. Rowling/Mary GrandPré            4.56  043965548X  9780439655484   \n",
       "4  J.K. Rowling/Mary GrandPré            4.78  0439682584  9780439682589   \n",
       "\n",
       "  language_code  num_pages  ratings_count  text_reviews_count  \\\n",
       "0           eng        652        2095690               27591   \n",
       "1           eng        870        2153167               29221   \n",
       "2           eng        352           6333                 244   \n",
       "3           eng        435        2339585               36325   \n",
       "4           eng       2690          41428                 164   \n",
       "\n",
       "      publication_date        publisher  \n",
       "0  2006-09-16 00:00:00  Scholastic Inc.  \n",
       "1  2004-09-01 00:00:00  Scholastic Inc.  \n",
       "2  2003-11-01 00:00:00       Scholastic  \n",
       "3  2004-05-01 00:00:00  Scholastic Inc.  \n",
       "4  2004-09-13 00:00:00       Scholastic  "
      ]
     },
     "execution_count": 23,
     "metadata": {},
     "output_type": "execute_result"
    }
   ],
   "source": [
    "df_copy.head()"
   ]
  },
  {
   "cell_type": "code",
   "execution_count": 33,
   "metadata": {},
   "outputs": [],
   "source": [
    "conn = create_db_connection()\n",
    "with conn.cursor() as cur:\n",
    "    cur.execute(\"\"\"SELECT aidb.create_model('paraphrase', \n",
    "                            'bert_local', \n",
    "                            '{\"model\": \"sentence-transformers/paraphrase-multilingual-MiniLM-L12-v2\",\n",
    "                             \"revision\": \"main\"}'::JSONB);\"\"\")\n",
    "    cur.execute(\"\"\"SELECT aidb.create_retriever_for_table(\n",
    "            name => 'book_retriever_aidb',\n",
    "            model_name => 'paraphrase',\n",
    "            source_key_column => 'bookid',\n",
    "            source_table => 'books',\n",
    "            source_data_column => 'title',\n",
    "            source_data_type => 'Text');\"\"\")\n",
    "    \n",
    "    cur.execute(\"SELECT aidb.bulk_embedding('book_retriever_aidb');\")\n",
    "    # Commit and close\n",
    "conn.commit()\n"
   ]
  },
  {
   "cell_type": "code",
   "execution_count": null,
   "metadata": {},
   "outputs": [
    {
     "name": "stdout",
     "output_type": "stream",
     "text": [
      "+-------+-----------------------------------------------------------------------+-----------------------------------------------------------------------------------------------------------------------------------------------+\n",
      "|  ID   |                                 Title                                 |                                                                    Authors                                                                    |\n",
      "+-------+-----------------------------------------------------------------------+-----------------------------------------------------------------------------------------------------------------------------------------------+\n",
      "|  30   | J.R.R. Tolkien 4-Book Boxed Set: The Hobbit and The Lord of the Rings |                                                                J.R.R. Tolkien                                                                 |\n",
      "|   5   |      Harry Potter and the Prisoner of Azkaban (Harry Potter  #3)      |                                                          J.K. Rowling/Mary GrandPré                                                           |\n",
      "|   1   |       Harry Potter and the Half-Blood Prince (Harry Potter  #6)       |                                                          J.K. Rowling/Mary GrandPré                                                           |\n",
      "| 1111  |        The Power Broker: Robert Moses and the Fall of New York        |                                                                Robert A. Caro                                                                 |\n",
      "| 25101 |                   Season of Mists (The Sandman  #4)                   | Neil Gaiman/Matt Wagner/George Pratt/Dick Giordano/Kelley Jones/P. Craig Russell/Mike Dringenberg/Malcolm Jones III/Todd Klein/Harlan Ellison |\n",
      "| 15195 |                           The Complete Maus                           |                                                                Art Spiegelman                                                                 |\n",
      "+-------+-----------------------------------------------------------------------+-----------------------------------------------------------------------------------------------------------------------------------------------+\n"
     ]
    }
   ],
   "source": [
    "# Retrieve books that their average_rating is over 4.5 and have at least 1000 reviews, initially. \n",
    "# Then, I want books with magic and dragon involved.\n",
    "\n",
    "with conn.cursor() as cur:\n",
    "    cur.execute(\"\"\"WITH filtered_books AS (\n",
    "    SELECT bookid\n",
    "    FROM books\n",
    "    WHERE text_reviews_count > 1000 \n",
    "        AND average_rating > 4.5\n",
    "),\n",
    "query_embedding AS (\n",
    "    SELECT aidb.encode_text('paraphrase', 'books with dragon and magic')::vector AS query_vec\n",
    ")\n",
    "SELECT br.id, b.title, b.authors\n",
    "FROM book_retriever_aidb_vector br\n",
    "JOIN books b ON b.bookid::text = br.id  -- Cast bookid to text to match br.id\n",
    "WHERE br.id IN (SELECT bookid::text FROM filtered_books)  -- Cast bookid to text in the subquery\n",
    "ORDER BY br.embeddings <=> (SELECT query_vec FROM query_embedding)\n",
    "LIMIT 20;\"\"\")\n",
    "    embeddings = cur.fetchall()\n",
    "    # Print the embeddings in a table structure\n",
    "    print(tabulate(embeddings, headers=[\"ID\", \"Title\", \"Authors\"], tablefmt=\"pretty\"))"
   ]
  },
  {
   "cell_type": "code",
   "execution_count": null,
   "metadata": {},
   "outputs": [],
   "source": [
    "conn.close()"
   ]
  }
 ],
 "metadata": {
  "kernelspec": {
   "display_name": "Python 3",
   "language": "python",
   "name": "python3"
  },
  "language_info": {
   "codemirror_mode": {
    "name": "ipython",
    "version": 3
   },
   "file_extension": ".py",
   "mimetype": "text/x-python",
   "name": "python",
   "nbconvert_exporter": "python",
   "pygments_lexer": "ipython3",
   "version": "3.10.4"
  }
 },
 "nbformat": 4,
 "nbformat_minor": 2
}
